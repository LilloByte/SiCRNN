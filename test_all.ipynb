{
 "cells": [
  {
   "cell_type": "code",
   "execution_count": 1,
   "metadata": {},
   "outputs": [],
   "source": [
    "import torch\n",
    "from networks import CRNN_2, CRNN_2_2, CRNN_2_4\n",
    "import os , json\n",
    "import matplotlib.pyplot as plt\n",
    "from sklearn.manifold import TSNE\n",
    "from tqdm import tqdm\n",
    "import numpy as np\n",
    "from sklearn.cluster import KMeans\n",
    "from sklearn.metrics import recall_score\n",
    "from sklearn.metrics import precision_score\n",
    "from sklearn.cluster import SpectralClustering"
   ]
  },
  {
   "cell_type": "markdown",
   "metadata": {},
   "source": [
    "## Import model, waights and cuda options (KNN classification)"
   ]
  },
  {
   "cell_type": "code",
   "execution_count": 2,
   "metadata": {},
   "outputs": [
    {
     "name": "stdout",
     "output_type": "stream",
     "text": [
      "[5, 5] 4 32 12\n"
     ]
    },
    {
     "data": {
      "text/plain": [
       "CRNN_2_4(\n",
       "  (conv1): conv_block(\n",
       "    (conv): Conv2d(1, 96, kernel_size=(5, 5), stride=(1, 1), padding=same, bias=False)\n",
       "    (bn): BatchNorm2d(96, eps=1e-05, momentum=0.1, affine=True, track_running_stats=True)\n",
       "    (relu): ReLU()\n",
       "    (mpool): MaxPool2d(kernel_size=(3, 2), stride=(3, 2), padding=0, dilation=1, ceil_mode=False)\n",
       "  )\n",
       "  (conv2): conv_block(\n",
       "    (conv): Conv2d(96, 128, kernel_size=(5, 5), stride=(1, 1), padding=same, bias=False)\n",
       "    (bn): BatchNorm2d(128, eps=1e-05, momentum=0.1, affine=True, track_running_stats=True)\n",
       "    (relu): ReLU()\n",
       "    (mpool): MaxPool2d(kernel_size=(2, 2), stride=(2, 2), padding=0, dilation=1, ceil_mode=False)\n",
       "  )\n",
       "  (conv3): conv_block(\n",
       "    (conv): Conv2d(128, 128, kernel_size=(5, 5), stride=(1, 1), padding=same, bias=False)\n",
       "    (bn): BatchNorm2d(128, eps=1e-05, momentum=0.1, affine=True, track_running_stats=True)\n",
       "    (relu): ReLU()\n",
       "    (mpool): MaxPool2d(kernel_size=(2, 2), stride=(2, 2), padding=0, dilation=1, ceil_mode=False)\n",
       "  )\n",
       "  (conv4): conv_block(\n",
       "    (conv): Conv2d(128, 128, kernel_size=(5, 5), stride=(1, 1), padding=same, bias=False)\n",
       "    (bn): BatchNorm2d(128, eps=1e-05, momentum=0.1, affine=True, track_running_stats=True)\n",
       "    (relu): ReLU()\n",
       "    (mpool): MaxPool2d(kernel_size=(1, 2), stride=(1, 2), padding=0, dilation=1, ceil_mode=False)\n",
       "  )\n",
       "  (rnn1): GRU(128, 32, num_layers=2, batch_first=True, bidirectional=True)\n",
       "  (dense): Linear(in_features=128, out_features=1, bias=True)\n",
       "  (sigmoid): Sigmoid()\n",
       ")"
      ]
     },
     "execution_count": 2,
     "metadata": {},
     "output_type": "execute_result"
    }
   ],
   "source": [
    "#open dictionary\n",
    "# dictionary_path = '/home/dlillini/apnea_detection_v3/paremters_tuning/weights_final/'+ str(exp)+'/parameters.json'\n",
    "dictionary_path = '/home/dlillini/Apnee/apnea_detection_v3/paremters_tuning/weights_new_split/split1/parameters.json'\n",
    "\n",
    "with open(dictionary_path, 'r') as file:\n",
    "    dizionario = json.load(file)\n",
    "\n",
    "ker_size = dizionario[\"kernel_size\"]  \n",
    "n_conv = dizionario[\"n_conv\"] \n",
    "gru = dizionario[\"hidden_gru\"]  \n",
    "inp = dizionario[\"input\"] \n",
    "print(ker_size, n_conv, gru, inp )\n",
    "#Carico la rete ed i pesi\n",
    "# waight_path = os.path.join('/home/dlillini/apnea_detection_v3/paremters_tuning/weights_final/',str(exp),'best_model.pth') \n",
    "waight_path = '/home/dlillini/Apnee/apnea_detection_v3/paremters_tuning/weights_new_split/split1/best_model.pth'\n",
    "net = None\n",
    "# define model ########################\n",
    "if n_conv == 2:\n",
    "    if inp == 8:\n",
    "        net = CRNN_2_2(kernel_size=ker_size, pool_size1=(4,2), pool_size2=(2,2), gru=gru)\n",
    "    if inp == 12:\n",
    "        net = CRNN_2_2(kernel_size=ker_size, pool_size1=(4,2), pool_size2=(3,2), gru=gru)\n",
    "    if inp == 18:\n",
    "        net = CRNN_2_2(kernel_size=ker_size, pool_size1=(6,2), pool_size2=(2,2), gru=gru)\n",
    "    if inp == 25:\n",
    "        net = CRNN_2_2(kernel_size=ker_size, pool_size1=(5,2), pool_size2=(5,2), gru=gru)\n",
    "    if inp == 32:\n",
    "        net = CRNN_2_2(kernel_size=ker_size, pool_size1=(8,2), pool_size2=(4,2), gru=gru)\n",
    "if n_conv == 3:\n",
    "    if inp == 8:\n",
    "        net = CRNN_2(kernel_size=ker_size, pool_size1=(2,2), pool_size2=(2,2), pool_size3=(2,2), gru=gru)\n",
    "    if inp == 12:\n",
    "        net = CRNN_2(kernel_size=ker_size, pool_size1=(3,2), pool_size2=(2,2), pool_size3=(2,2), gru=gru)\n",
    "    if inp == 18:\n",
    "        net = CRNN_2(kernel_size=ker_size, pool_size1=(4,2), pool_size2=(2,2), pool_size3=(2,2),gru=gru)\n",
    "    if inp == 25:\n",
    "        net = CRNN_2(kernel_size=ker_size, pool_size1=(5,2), pool_size2=(2,2), pool_size3=(2,2),gru=gru)\n",
    "    if inp == 32:\n",
    "        net = CRNN_2(kernel_size=ker_size, pool_size1=(8,2), pool_size2=(2,2), pool_size3=(2,2), gru=gru)\n",
    "if n_conv == 4:\n",
    "    if inp == 8:\n",
    "        net = CRNN_2_4(kernel_size=ker_size, pool_size1=(2,2), pool_size2=(2,2), pool_size3=(2,2), pool_size4=(1,2),gru=gru)\n",
    "    if inp == 12:\n",
    "        net = CRNN_2_4(kernel_size=ker_size, pool_size1=(3,2), pool_size2=(2,2), pool_size3=(2,2), pool_size4=(1,2),gru=gru)\n",
    "    if inp == 18:\n",
    "        net = CRNN_2_4(kernel_size=ker_size, pool_size1=(2,2), pool_size2=(2,2), pool_size3=(2,2), pool_size4=(2,2),gru=gru)\n",
    "    if inp == 25:\n",
    "        net = CRNN_2_4(kernel_size=ker_size, pool_size1=(2,2), pool_size2=(2,2), pool_size3=(2,2), pool_size4=(3,2),gru=gru)\n",
    "    if inp == 32:\n",
    "        net = CRNN_2_4(kernel_size=ker_size, pool_size1=(4,2), pool_size2=(2,2), pool_size3=(2,2), pool_size4=(2,2),gru=gru)\n",
    "\n",
    "device = torch.device('cuda' if torch.cuda.is_available() else 'cpu')\n",
    "net = net.to(device)\n",
    "net.load_state_dict(torch.load(waight_path))\n",
    "net.eval()\n"
   ]
  },
  {
   "cell_type": "markdown",
   "metadata": {},
   "source": [
    "### Loading data to test the net"
   ]
  },
  {
   "cell_type": "code",
   "execution_count": 3,
   "metadata": {},
   "outputs": [],
   "source": [
    "def file_parse(root_dir, ext='pth'):\n",
    "    a_items = []\n",
    "    na_items = []\n",
    "    print(f'parse {root_dir}... ', end='')\n",
    "    for root, _, files in os.walk(root_dir, topdown=False):\n",
    "        for name in files:\n",
    "            if os.path.isfile(os.path.join(root, name)):\n",
    "                if name.endswith(ext):\n",
    "                    if 'apnea' in os.path.join(root, name).split('/'):\n",
    "                        a_items.append(os.path.join(root, name))\n",
    "                    elif 'nonapnea' in os.path.join(root, name).split('/'):\n",
    "                        na_items.append(os.path.join(root, name))\n",
    "    return a_items, na_items # return full path"
   ]
  },
  {
   "cell_type": "markdown",
   "metadata": {},
   "source": [
    "Pazienti in training"
   ]
  },
  {
   "cell_type": "code",
   "execution_count": 4,
   "metadata": {},
   "outputs": [
    {
     "name": "stdout",
     "output_type": "stream",
     "text": [
      "parse /disks/disk1/dlillini/PSG_Audio/new_split/split1/train/... "
     ]
    }
   ],
   "source": [
    "root_dir = '/disks/disk1/dlillini/PSG_Audio/new_split/split1/train/'\n",
    "t_a_items, t_na_items = file_parse(root_dir)"
   ]
  },
  {
   "cell_type": "code",
   "execution_count": 5,
   "metadata": {},
   "outputs": [
    {
     "name": "stderr",
     "output_type": "stream",
     "text": [
      "100%|██████████| 12348/12348 [00:12<00:00, 1021.13it/s]\n",
      "100%|██████████| 35016/35016 [00:35<00:00, 997.71it/s] "
     ]
    },
    {
     "name": "stdout",
     "output_type": "stream",
     "text": [
      "Embedded 12348 chunks of apnea\n",
      "Embedded 35016 chunks of non-apnea\n"
     ]
    },
    {
     "name": "stderr",
     "output_type": "stream",
     "text": [
      "\n"
     ]
    }
   ],
   "source": [
    "#Define empty tensor to save the embeddings\n",
    "\n",
    "t_a_emb = torch.Tensor()\n",
    "t_na_emb = torch.Tensor()\n",
    "\n",
    "#For apnea items\n",
    "\n",
    "for mel_sp in tqdm(t_a_items):\n",
    "    ap = torch.load(str(mel_sp))\n",
    "    ap = ap.to(device)\n",
    "    ap = ap[0:inp,:]\n",
    "    with torch.no_grad():\n",
    "        out_a = net((ap.unsqueeze(0).unsqueeze(0)))\n",
    "    t_a_emb = torch.cat((t_a_emb,out_a.detach().cpu()))\n",
    "\n",
    "#For non apnea items\n",
    "\n",
    "for mel_sp in tqdm(t_na_items):\n",
    "    n_ap = torch.load(str(mel_sp))\n",
    "    n_ap = n_ap.to(device)\n",
    "    n_ap = n_ap[0:inp,:]\n",
    "    with torch.no_grad():\n",
    "        out_na = net((n_ap.unsqueeze(0).unsqueeze(0)))\n",
    "    t_na_emb = torch.cat((t_na_emb,out_na.detach().cpu()))\n",
    "\n",
    "print(f'Embedded {t_a_emb.shape[0]} chunks of apnea')\n",
    "print(f'Embedded {t_na_emb.shape[0]} chunks of non-apnea')\n"
   ]
  },
  {
   "cell_type": "markdown",
   "metadata": {},
   "source": [
    "Pazienti di test\n"
   ]
  },
  {
   "cell_type": "code",
   "execution_count": 6,
   "metadata": {},
   "outputs": [
    {
     "name": "stdout",
     "output_type": "stream",
     "text": [
      "parse /disks/disk1/dlillini/PSG_Audio/new_split/split1/test/... "
     ]
    }
   ],
   "source": [
    "root_dir = '/disks/disk1/dlillini/PSG_Audio/new_split/split1/test/'\n",
    "a_items, na_items = file_parse(root_dir)"
   ]
  },
  {
   "cell_type": "code",
   "execution_count": 7,
   "metadata": {},
   "outputs": [
    {
     "name": "stderr",
     "output_type": "stream",
     "text": [
      "100%|██████████| 3843/3843 [00:03<00:00, 1053.21it/s]\n",
      "100%|██████████| 13747/13747 [00:12<00:00, 1058.60it/s]"
     ]
    },
    {
     "name": "stdout",
     "output_type": "stream",
     "text": [
      "Embedded 3843 chunks of apnea\n",
      "Embedded 13747 chunks of non-apnea\n"
     ]
    },
    {
     "name": "stderr",
     "output_type": "stream",
     "text": [
      "\n"
     ]
    }
   ],
   "source": [
    "#Define empty tensor to save the embeddings\n",
    "\n",
    "a_emb = torch.Tensor()\n",
    "na_emb = torch.Tensor()\n",
    "\n",
    "#For apnea items\n",
    "\n",
    "for mel_sp in tqdm(a_items):\n",
    "    ap = torch.load(str(mel_sp))\n",
    "    ap = ap.to(device)\n",
    "    ap = ap[0:inp,:]\n",
    "    with torch.no_grad():\n",
    "        out_a = net((ap.unsqueeze(0).unsqueeze(0)))\n",
    "    a_emb = torch.cat((a_emb,out_a.detach().cpu()))\n",
    "\n",
    "#For non apnea items\n",
    "\n",
    "for mel_sp in tqdm(na_items):\n",
    "    n_ap = torch.load(str(mel_sp))\n",
    "    n_ap = n_ap.to(device)\n",
    "    n_ap = n_ap[0:inp,:]\n",
    "    with torch.no_grad():\n",
    "        out_na = net((n_ap.unsqueeze(0).unsqueeze(0)))\n",
    "    na_emb = torch.cat((na_emb,out_na.detach().cpu()))\n",
    "\n",
    "print(f'Embedded {a_emb.shape[0]} chunks of apnea')\n",
    "print(f'Embedded {na_emb.shape[0]} chunks of non-apnea')\n"
   ]
  },
  {
   "cell_type": "markdown",
   "metadata": {},
   "source": [
    "Train"
   ]
  },
  {
   "cell_type": "code",
   "execution_count": 8,
   "metadata": {},
   "outputs": [
    {
     "name": "stdout",
     "output_type": "stream",
     "text": [
      "X_A: (12348, 64)\n",
      "X_NA: (35016, 64)\n",
      "X: (47364, 64)\n",
      "y: (47364,)\n"
     ]
    }
   ],
   "source": [
    "X_A_t = np.array(t_a_emb)\n",
    "y_A_t = np.ones(X_A_t.shape[0])\n",
    "X_NA_t = np.array(t_na_emb)\n",
    "y_NA_t = np.zeros(X_NA_t.shape[0])\n",
    "X_t = np.vstack((X_A_t, X_NA_t))\n",
    "y_t= np.vstack((y_A_t[:,np.newaxis], y_NA_t[:,np.newaxis]))\n",
    "y_t = np.squeeze(y_t)\n",
    "print(f'X_A: {X_A_t.shape}')\n",
    "print(f'X_NA: {X_NA_t.shape}')\n",
    "print(f'X: {X_t.shape}')\n",
    "print(f'y: {y_t.shape}')"
   ]
  },
  {
   "cell_type": "markdown",
   "metadata": {},
   "source": [
    "test"
   ]
  },
  {
   "cell_type": "code",
   "execution_count": 9,
   "metadata": {},
   "outputs": [
    {
     "name": "stdout",
     "output_type": "stream",
     "text": [
      "X_A: (3843, 64)\n",
      "X_NA: (13747, 64)\n",
      "X: (17590, 64)\n",
      "y: (17590,)\n"
     ]
    }
   ],
   "source": [
    "X_A = np.array(a_emb)\n",
    "y_A = np.ones(X_A.shape[0])\n",
    "X_NA = np.array(na_emb)\n",
    "y_NA = np.zeros(X_NA.shape[0])\n",
    "X = np.vstack((X_A, X_NA))\n",
    "y = np.vstack((y_A[:,np.newaxis], y_NA[:,np.newaxis]))\n",
    "y = np.squeeze(y)\n",
    "print(f'X_A: {X_A.shape}')\n",
    "print(f'X_NA: {X_NA.shape}')\n",
    "print(f'X: {X.shape}')\n",
    "print(f'y: {y.shape}')\n"
   ]
  },
  {
   "cell_type": "markdown",
   "metadata": {},
   "source": [
    "T-NSE (Dimensionality reduction from 128 to 2) need it to plot the embeddings distribution"
   ]
  },
  {
   "cell_type": "code",
   "execution_count": 10,
   "metadata": {},
   "outputs": [],
   "source": [
    "# Fit T-SNE\n",
    "tsne = TSNE(n_components=2, random_state=184)\n",
    "X_2d = tsne.fit_transform(X)"
   ]
  },
  {
   "cell_type": "code",
   "execution_count": 11,
   "metadata": {},
   "outputs": [
    {
     "data": {
      "image/png": "[encoded data removed]",
      "text/plain": [
       "<Figure size 600x500 with 1 Axes>"
      ]
     },
     "metadata": {},
     "output_type": "display_data"
    }
   ],
   "source": [
    "comment = ''\n",
    "plt.figure(figsize=(6, 5))\n",
    "\n",
    "for i, c, label, szs in zip([1,0], ['r','pink'], ['apnea','non apnea'], [12,12]):\n",
    "    plt.scatter(X_2d[y == i, 0], X_2d[y == i, 1], c=c, s=szs, label=label)\n",
    "plt.legend(loc='best')\n",
    "plt.title('Embeddings distrubution (Trained on 23 patiens, Tested on 8 patients)')\n",
    "plt.text(0.95, 0.01, str(comment), verticalalignment='bottom', horizontalalignment='right',\n",
    "         transform=plt.gca().transAxes, color='blue', fontsize=10)\n",
    "plt.show()"
   ]
  },
  {
   "cell_type": "code",
   "execution_count": 10,
   "metadata": {},
   "outputs": [
    {
     "name": "stdout",
     "output_type": "stream",
     "text": [
      "X_A: (3843, 64)\n",
      "X_NA: (13747, 64)\n",
      "X: (17590, 64)\n",
      "y: (17590,)\n"
     ]
    }
   ],
   "source": [
    "# load data\n",
    "lbl_apnea = 0\n",
    "lbl_nonapnea = 1\n",
    "y_A = lbl_apnea*np.ones(X_A.shape[0])\n",
    "y_NA = lbl_nonapnea*np.ones(X_NA.shape[0])\n",
    "X = np.vstack((X_A, X_NA))\n",
    "y = np.vstack((y_A[:,np.newaxis], y_NA[:,np.newaxis]))\n",
    "y = np.squeeze(y)\n",
    "print(f'X_A: {X_A.shape}')\n",
    "print(f'X_NA: {X_NA.shape}')\n",
    "print(f'X: {X.shape}')\n",
    "print(f'y: {y.shape}')"
   ]
  },
  {
   "cell_type": "markdown",
   "metadata": {},
   "source": [
    "FIT su train"
   ]
  },
  {
   "cell_type": "code",
   "execution_count": 11,
   "metadata": {},
   "outputs": [
    {
     "name": "stdout",
     "output_type": "stream",
     "text": [
      "Accuracy: 0.6343376918703809\n",
      "Recall: 0.5681239543173056\n",
      "Precision: 0.9403973509933775\n",
      "Time: 0.09920930862426758\n"
     ]
    }
   ],
   "source": [
    "# K-means clustering\n",
    "import time\n",
    "np.random.seed(5)\n",
    "estimator = KMeans(n_clusters=2)\n",
    "\n",
    "start_time = time.time()\n",
    "estimator.fit(X_t)\n",
    "labels_pred = estimator.predict(X)\n",
    "end_time = time.time()\n",
    "\n",
    "accuracy = ((labels_pred==y).sum() / len(y))\n",
    "rec = recall_score(y,labels_pred, average='binary')\n",
    "prec = precision_score(y,labels_pred, average='binary')\n",
    "print(f'Accuracy: {accuracy}')\n",
    "print(f'Recall: {rec}')\n",
    "print(f'Precision: {prec}')\n",
    "print(f'Time: {end_time-start_time}')"
   ]
  },
  {
   "cell_type": "markdown",
   "metadata": {},
   "source": [
    "Fit su test"
   ]
  },
  {
   "cell_type": "code",
   "execution_count": 18,
   "metadata": {},
   "outputs": [
    {
     "name": "stdout",
     "output_type": "stream",
     "text": [
      "Accuracy: 0.3655486071631609\n",
      "Recall: 0.43173055939477706\n",
      "Precision: 0.6393407303673382\n"
     ]
    }
   ],
   "source": [
    "# K-means clustering\n",
    "np.random.seed(5)\n",
    "estimator = KMeans(n_clusters=2)\n",
    "estimator.fit(X)\n",
    "labels_pred = estimator.labels_\n",
    "accuracy = ((labels_pred==y).sum() / len(y))\n",
    "rec = recall_score(y,labels_pred, average='binary')\n",
    "prec = precision_score(y,labels_pred, average='binary')\n",
    "print(f'Accuracy: {accuracy}')\n",
    "print(f'Recall: {rec}')\n",
    "print(f'Precision: {prec}')"
   ]
  },
  {
   "cell_type": "code",
   "execution_count": 12,
   "metadata": {},
   "outputs": [
    {
     "name": "stdout",
     "output_type": "stream",
     "text": [
      "X_A: (3843, 64)\n",
      "X_NA: (13747, 64)\n",
      "X: (17590, 64)\n",
      "y: (17590,)\n"
     ]
    }
   ],
   "source": [
    "# load data\n",
    "lbl_apnea = 1\n",
    "lbl_nonapnea = 0\n",
    "y_A = lbl_apnea*np.ones(X_A.shape[0])\n",
    "y_NA = lbl_nonapnea*np.ones(X_NA.shape[0])\n",
    "X = np.vstack((X_A, X_NA))\n",
    "y = np.vstack((y_A[:,np.newaxis], y_NA[:,np.newaxis]))\n",
    "y = np.squeeze(y)\n",
    "print(f'X_A: {X_A.shape}')\n",
    "print(f'X_NA: {X_NA.shape}')\n",
    "print(f'X: {X.shape}')\n",
    "print(f'y: {y.shape}')"
   ]
  },
  {
   "cell_type": "markdown",
   "metadata": {},
   "source": [
    "SVC"
   ]
  },
  {
   "cell_type": "code",
   "execution_count": 13,
   "metadata": {},
   "outputs": [
    {
     "name": "stdout",
     "output_type": "stream",
     "text": [
      "Accuracy: 0.7520750426378624\n",
      "Recall: 0.7777777777777778\n",
      "Precision: 0.46012931034482757\n",
      "Time: 42.33162832260132\n"
     ]
    }
   ],
   "source": [
    "from sklearn.svm import SVC\n",
    "import time\n",
    "# K-means clustering\n",
    "np.random.seed(5)\n",
    "estimator = SVC(gamma='auto')\n",
    "start_time = time.time()\n",
    "estimator.fit(X_t,y_t)\n",
    "labels_pred = estimator.predict(X)\n",
    "end_time = time.time()\n",
    "accuracy = ((labels_pred==y).sum() / len(y))\n",
    "rec = recall_score(y,labels_pred, average='binary')\n",
    "prec = precision_score(y,labels_pred, average='binary')\n",
    "print(f'Accuracy: {accuracy}')\n",
    "print(f'Recall: {rec}')\n",
    "print(f'Precision: {prec}')\n",
    "print(f'Time: {end_time-start_time}')"
   ]
  },
  {
   "cell_type": "markdown",
   "metadata": {},
   "source": [
    "### KNN"
   ]
  },
  {
   "cell_type": "code",
   "execution_count": 14,
   "metadata": {},
   "outputs": [
    {
     "name": "stdout",
     "output_type": "stream",
     "text": [
      "Accuracy: 0.8267197271176805\n",
      "Recall: 0.6885245901639344\n",
      "Precision: 0.5883922615076718\n",
      "Time: 0.3784961700439453\n"
     ]
    }
   ],
   "source": [
    "# K-Nearest Neighbors (KNN) classifier\n",
    "from sklearn.neighbors import KNeighborsClassifier\n",
    "knn = KNeighborsClassifier(n_neighbors=5)\n",
    "\n",
    "start_time = time.time()\n",
    "knn.fit(X_t, y_t)\n",
    "labels_pred = knn.predict(X)\n",
    "end_time = time.time()\n",
    "\n",
    "accuracy = ((labels_pred == y).sum() / len(y))\n",
    "rec = recall_score(y, labels_pred, average='binary')\n",
    "prec = precision_score(y, labels_pred, average='binary')\n",
    "print(f'Accuracy: {accuracy}')\n",
    "print(f'Recall: {rec}')\n",
    "print(f'Precision: {prec}')\n",
    "print(f'Time: {end_time-start_time}')"
   ]
  },
  {
   "cell_type": "markdown",
   "metadata": {},
   "source": [
    "## ANN Classification"
   ]
  },
  {
   "cell_type": "code",
   "execution_count": 21,
   "metadata": {},
   "outputs": [],
   "source": [
    "from networks import CRNN_CLASS\n",
    "from torchmetrics.classification import BinaryAccuracy, BinaryRecall, BinaryPrecision"
   ]
  },
  {
   "cell_type": "markdown",
   "metadata": {},
   "source": [
    "Load the classifier model and waights"
   ]
  },
  {
   "cell_type": "code",
   "execution_count": 22,
   "metadata": {},
   "outputs": [
    {
     "ename": "FileNotFoundError",
     "evalue": "[Errno 2] No such file or directory: '/home/dlillini/apnea_detection_v3/waights_classifier/7/best_model.pth'",
     "output_type": "error",
     "traceback": [
      "\u001b[0;31m---------------------------------------------------------------------------\u001b[0m",
      "\u001b[0;31mFileNotFoundError\u001b[0m                         Traceback (most recent call last)",
      "Cell \u001b[0;32mIn[22], line 6\u001b[0m\n\u001b[1;32m      4\u001b[0m classifier \u001b[38;5;241m=\u001b[39m CRNN_CLASS()\n\u001b[1;32m      5\u001b[0m classifier \u001b[38;5;241m=\u001b[39m classifier\u001b[38;5;241m.\u001b[39mto(device)\n\u001b[0;32m----> 6\u001b[0m classifier\u001b[38;5;241m.\u001b[39mload_state_dict(\u001b[43mtorch\u001b[49m\u001b[38;5;241;43m.\u001b[39;49m\u001b[43mload\u001b[49m\u001b[43m(\u001b[49m\u001b[43mwaight_path_class\u001b[49m\u001b[43m)\u001b[49m)\n\u001b[1;32m      7\u001b[0m ACCURACY\u001b[38;5;241m=\u001b[39mBinaryAccuracy()\u001b[38;5;241m.\u001b[39mto(device)\n\u001b[1;32m      8\u001b[0m RECALL\u001b[38;5;241m=\u001b[39mBinaryRecall()\u001b[38;5;241m.\u001b[39mto(device)\n",
      "File \u001b[0;32m~/miniconda3/envs/env_dl/lib/python3.12/site-packages/torch/serialization.py:998\u001b[0m, in \u001b[0;36mload\u001b[0;34m(f, map_location, pickle_module, weights_only, mmap, **pickle_load_args)\u001b[0m\n\u001b[1;32m    995\u001b[0m \u001b[38;5;28;01mif\u001b[39;00m \u001b[38;5;124m'\u001b[39m\u001b[38;5;124mencoding\u001b[39m\u001b[38;5;124m'\u001b[39m \u001b[38;5;129;01mnot\u001b[39;00m \u001b[38;5;129;01min\u001b[39;00m pickle_load_args\u001b[38;5;241m.\u001b[39mkeys():\n\u001b[1;32m    996\u001b[0m     pickle_load_args[\u001b[38;5;124m'\u001b[39m\u001b[38;5;124mencoding\u001b[39m\u001b[38;5;124m'\u001b[39m] \u001b[38;5;241m=\u001b[39m \u001b[38;5;124m'\u001b[39m\u001b[38;5;124mutf-8\u001b[39m\u001b[38;5;124m'\u001b[39m\n\u001b[0;32m--> 998\u001b[0m \u001b[38;5;28;01mwith\u001b[39;00m \u001b[43m_open_file_like\u001b[49m\u001b[43m(\u001b[49m\u001b[43mf\u001b[49m\u001b[43m,\u001b[49m\u001b[43m \u001b[49m\u001b[38;5;124;43m'\u001b[39;49m\u001b[38;5;124;43mrb\u001b[39;49m\u001b[38;5;124;43m'\u001b[39;49m\u001b[43m)\u001b[49m \u001b[38;5;28;01mas\u001b[39;00m opened_file:\n\u001b[1;32m    999\u001b[0m     \u001b[38;5;28;01mif\u001b[39;00m _is_zipfile(opened_file):\n\u001b[1;32m   1000\u001b[0m         \u001b[38;5;66;03m# The zipfile reader is going to advance the current file position.\u001b[39;00m\n\u001b[1;32m   1001\u001b[0m         \u001b[38;5;66;03m# If we want to actually tail call to torch.jit.load, we need to\u001b[39;00m\n\u001b[1;32m   1002\u001b[0m         \u001b[38;5;66;03m# reset back to the original position.\u001b[39;00m\n\u001b[1;32m   1003\u001b[0m         orig_position \u001b[38;5;241m=\u001b[39m opened_file\u001b[38;5;241m.\u001b[39mtell()\n",
      "File \u001b[0;32m~/miniconda3/envs/env_dl/lib/python3.12/site-packages/torch/serialization.py:445\u001b[0m, in \u001b[0;36m_open_file_like\u001b[0;34m(name_or_buffer, mode)\u001b[0m\n\u001b[1;32m    443\u001b[0m \u001b[38;5;28;01mdef\u001b[39;00m \u001b[38;5;21m_open_file_like\u001b[39m(name_or_buffer, mode):\n\u001b[1;32m    444\u001b[0m     \u001b[38;5;28;01mif\u001b[39;00m _is_path(name_or_buffer):\n\u001b[0;32m--> 445\u001b[0m         \u001b[38;5;28;01mreturn\u001b[39;00m \u001b[43m_open_file\u001b[49m\u001b[43m(\u001b[49m\u001b[43mname_or_buffer\u001b[49m\u001b[43m,\u001b[49m\u001b[43m \u001b[49m\u001b[43mmode\u001b[49m\u001b[43m)\u001b[49m\n\u001b[1;32m    446\u001b[0m     \u001b[38;5;28;01melse\u001b[39;00m:\n\u001b[1;32m    447\u001b[0m         \u001b[38;5;28;01mif\u001b[39;00m \u001b[38;5;124m'\u001b[39m\u001b[38;5;124mw\u001b[39m\u001b[38;5;124m'\u001b[39m \u001b[38;5;129;01min\u001b[39;00m mode:\n",
      "File \u001b[0;32m~/miniconda3/envs/env_dl/lib/python3.12/site-packages/torch/serialization.py:426\u001b[0m, in \u001b[0;36m_open_file.__init__\u001b[0;34m(self, name, mode)\u001b[0m\n\u001b[1;32m    425\u001b[0m \u001b[38;5;28;01mdef\u001b[39;00m \u001b[38;5;21m__init__\u001b[39m(\u001b[38;5;28mself\u001b[39m, name, mode):\n\u001b[0;32m--> 426\u001b[0m     \u001b[38;5;28msuper\u001b[39m()\u001b[38;5;241m.\u001b[39m\u001b[38;5;21m__init__\u001b[39m(\u001b[38;5;28;43mopen\u001b[39;49m\u001b[43m(\u001b[49m\u001b[43mname\u001b[49m\u001b[43m,\u001b[49m\u001b[43m \u001b[49m\u001b[43mmode\u001b[49m\u001b[43m)\u001b[49m)\n",
      "\u001b[0;31mFileNotFoundError\u001b[0m: [Errno 2] No such file or directory: '/home/dlillini/apnea_detection_v3/waights_classifier/7/best_model.pth'"
     ]
    }
   ],
   "source": [
    "exp_n = 7\n",
    "waight_path_class = os.path.join('/home/dlillini/apnea_detection_v3/waights_classifier/',str(exp_n),'best_model.pth')\n",
    "device = torch.device('cuda' if torch.cuda.is_available() else 'cpu')\n",
    "classifier = CRNN_CLASS()\n",
    "classifier = classifier.to(device)\n",
    "classifier.load_state_dict(torch.load(waight_path_class))\n",
    "ACCURACY=BinaryAccuracy().to(device)\n",
    "RECALL=BinaryRecall().to(device)\n",
    "PRECISION = BinaryPrecision().to(device)\n",
    "classifier.eval()"
   ]
  },
  {
   "cell_type": "code",
   "execution_count": 9,
   "metadata": {},
   "outputs": [
    {
     "name": "stdout",
     "output_type": "stream",
     "text": [
      "torch.Size([15162])\n",
      "torch.Size([15162, 128])\n"
     ]
    }
   ],
   "source": [
    "lbl_a = torch.ones(a_emb.shape[0])\n",
    "lbl_na = torch.zeros(na_emb.shape[0])\n",
    "\n",
    "input = torch.cat((a_emb,na_emb))\n",
    "lbl_tot = torch.cat((lbl_a,lbl_na))\n",
    "lbl_tot = lbl_tot.to(device)\n",
    "input = input.to(device)\n",
    "print(lbl_tot.shape)\n",
    "print(input.shape)\n"
   ]
  },
  {
   "cell_type": "code",
   "execution_count": 23,
   "metadata": {},
   "outputs": [
    {
     "name": "stderr",
     "output_type": "stream",
     "text": [
      "100%|██████████| 15162/15162 [00:00<00:00, 24846.70it/s]"
     ]
    },
    {
     "name": "stdout",
     "output_type": "stream",
     "text": [
      "ACCURACY: 0.849096417427063\n",
      "RECALL: 0.730315382965029\n",
      "PRECISION: 0.7675310033821872\n"
     ]
    },
    {
     "name": "stderr",
     "output_type": "stream",
     "text": [
      "\n"
     ]
    }
   ],
   "source": [
    "output = torch.Tensor()\n",
    "output = output.to(device)\n",
    "with torch.no_grad():\n",
    "    for items in tqdm(input):\n",
    "        net_out = classifier(items)\n",
    "        output = torch.cat((output,net_out))\n",
    "\n",
    "acc = ACCURACY(output,lbl_tot)\n",
    "rec = RECALL(output,lbl_tot) \n",
    "prec = PRECISION(output,lbl_tot)\n",
    "print(f'ACCURACY: {acc}')\n",
    "print(f'RECALL: {rec}')\n",
    "print(f'PRECISION: {prec}')"
   ]
  },
  {
   "cell_type": "code",
   "execution_count": null,
   "metadata": {},
   "outputs": [],
   "source": []
  }
 ],
 "metadata": {
  "kernelspec": {
   "display_name": "env_dl",
   "language": "python",
   "name": "python3"
  },
  "language_info": {
   "codemirror_mode": {
    "name": "ipython",
    "version": 3
   },
   "file_extension": ".py",
   "mimetype": "text/x-python",
   "name": "python",
   "nbconvert_exporter": "python",
   "pygments_lexer": "ipython3",
   "version": "3.12.2"
  }
 },
 "nbformat": 4,
 "nbformat_minor": 2
}
