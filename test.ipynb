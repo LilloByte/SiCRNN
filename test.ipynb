{
 "cells": [
  {
   "cell_type": "code",
   "execution_count": 1,
   "metadata": {},
   "outputs": [],
   "source": [
    "import torch\n",
    "from networks import CRNN_2, CRNN_2_2, CRNN_2_4\n",
    "import os , json\n",
    "import matplotlib.pyplot as plt\n",
    "from sklearn.manifold import TSNE\n",
    "from tqdm import tqdm\n",
    "import numpy as np\n",
    "from sklearn.cluster import KMeans\n",
    "from sklearn.metrics import recall_score\n",
    "from sklearn.metrics import precision_score\n",
    "from sklearn.cluster import SpectralClustering"
   ]
  },
  {
   "cell_type": "markdown",
   "metadata": {},
   "source": [
    "## Import model, waights and cuda options (KNN classification)"
   ]
  },
  {
   "cell_type": "code",
   "execution_count": 2,
   "metadata": {},
   "outputs": [
    {
     "name": "stdout",
     "output_type": "stream",
     "text": [
      "[5, 5] 4 32 12\n"
     ]
    },
    {
     "data": {
      "text/plain": [
       "CRNN_2_4(\n",
       "  (conv1): conv_block(\n",
       "    (conv): Conv2d(1, 96, kernel_size=(5, 5), stride=(1, 1), padding=same, bias=False)\n",
       "    (bn): BatchNorm2d(96, eps=1e-05, momentum=0.1, affine=True, track_running_stats=True)\n",
       "    (relu): ReLU()\n",
       "    (mpool): MaxPool2d(kernel_size=(3, 2), stride=(3, 2), padding=0, dilation=1, ceil_mode=False)\n",
       "  )\n",
       "  (conv2): conv_block(\n",
       "    (conv): Conv2d(96, 128, kernel_size=(5, 5), stride=(1, 1), padding=same, bias=False)\n",
       "    (bn): BatchNorm2d(128, eps=1e-05, momentum=0.1, affine=True, track_running_stats=True)\n",
       "    (relu): ReLU()\n",
       "    (mpool): MaxPool2d(kernel_size=(2, 2), stride=(2, 2), padding=0, dilation=1, ceil_mode=False)\n",
       "  )\n",
       "  (conv3): conv_block(\n",
       "    (conv): Conv2d(128, 128, kernel_size=(5, 5), stride=(1, 1), padding=same, bias=False)\n",
       "    (bn): BatchNorm2d(128, eps=1e-05, momentum=0.1, affine=True, track_running_stats=True)\n",
       "    (relu): ReLU()\n",
       "    (mpool): MaxPool2d(kernel_size=(2, 2), stride=(2, 2), padding=0, dilation=1, ceil_mode=False)\n",
       "  )\n",
       "  (conv4): conv_block(\n",
       "    (conv): Conv2d(128, 128, kernel_size=(5, 5), stride=(1, 1), padding=same, bias=False)\n",
       "    (bn): BatchNorm2d(128, eps=1e-05, momentum=0.1, affine=True, track_running_stats=True)\n",
       "    (relu): ReLU()\n",
       "    (mpool): MaxPool2d(kernel_size=(1, 2), stride=(1, 2), padding=0, dilation=1, ceil_mode=False)\n",
       "  )\n",
       "  (rnn1): GRU(128, 32, num_layers=2, batch_first=True, bidirectional=True)\n",
       "  (dense): Linear(in_features=128, out_features=1, bias=True)\n",
       "  (sigmoid): Sigmoid()\n",
       ")"
      ]
     },
     "execution_count": 2,
     "metadata": {},
     "output_type": "execute_result"
    }
   ],
   "source": [
    "#open dictionary\n",
    "# dictionary_path = '/home/dlillini/apnea_detection_v3/paremters_tuning/weights_final/'+ str(exp)+'/parameters.json'\n",
    "dictionary_path = '/home/dlillini/esercitazioni_2025/DACLS_apnea/apnea_detection/pretrained_weights/split2/parameters.json'\n",
    "\n",
    "with open(dictionary_path, 'r') as file:\n",
    "    dizionario = json.load(file)\n",
    "\n",
    "ker_size = dizionario[\"kernel_size\"]  \n",
    "n_conv = dizionario[\"n_conv\"] \n",
    "gru = dizionario[\"hidden_gru\"]  \n",
    "inp = dizionario[\"input\"] \n",
    "print(ker_size, n_conv, gru, inp )\n",
    "#Carico la rete ed i pesi\n",
    "# waight_path = os.path.join('/home/dlillini/apnea_detection_v3/paremters_tuning/weights_final/',str(exp),'best_model.pth') \n",
    "waight_path = '/home/dlillini/esercitazioni_2025/DACLS_apnea/apnea_detection/pretrained_weights/split2/best_model.pth'\n",
    "net = None\n",
    "# define model ########################\n",
    "if n_conv == 2:\n",
    "    if inp == 8:\n",
    "        net = CRNN_2_2(kernel_size=ker_size, pool_size1=(4,2), pool_size2=(2,2), gru=gru)\n",
    "    if inp == 12:\n",
    "        net = CRNN_2_2(kernel_size=ker_size, pool_size1=(4,2), pool_size2=(3,2), gru=gru)\n",
    "    if inp == 18:\n",
    "        net = CRNN_2_2(kernel_size=ker_size, pool_size1=(6,2), pool_size2=(2,2), gru=gru)\n",
    "    if inp == 25:\n",
    "        net = CRNN_2_2(kernel_size=ker_size, pool_size1=(5,2), pool_size2=(5,2), gru=gru)\n",
    "    if inp == 32:\n",
    "        net = CRNN_2_2(kernel_size=ker_size, pool_size1=(8,2), pool_size2=(4,2), gru=gru)\n",
    "if n_conv == 3:\n",
    "    if inp == 8:\n",
    "        net = CRNN_2(kernel_size=ker_size, pool_size1=(2,2), pool_size2=(2,2), pool_size3=(2,2), gru=gru)\n",
    "    if inp == 12:\n",
    "        net = CRNN_2(kernel_size=ker_size, pool_size1=(3,2), pool_size2=(2,2), pool_size3=(2,2), gru=gru)\n",
    "    if inp == 18:\n",
    "        net = CRNN_2(kernel_size=ker_size, pool_size1=(4,2), pool_size2=(2,2), pool_size3=(2,2),gru=gru)\n",
    "    if inp == 25:\n",
    "        net = CRNN_2(kernel_size=ker_size, pool_size1=(5,2), pool_size2=(2,2), pool_size3=(2,2),gru=gru)\n",
    "    if inp == 32:\n",
    "        net = CRNN_2(kernel_size=ker_size, pool_size1=(8,2), pool_size2=(2,2), pool_size3=(2,2), gru=gru)\n",
    "if n_conv == 4:\n",
    "    if inp == 8:\n",
    "        net = CRNN_2_4(kernel_size=ker_size, pool_size1=(2,2), pool_size2=(2,2), pool_size3=(2,2), pool_size4=(1,2),gru=gru)\n",
    "    if inp == 12:\n",
    "        net = CRNN_2_4(kernel_size=ker_size, pool_size1=(3,2), pool_size2=(2,2), pool_size3=(2,2), pool_size4=(1,2),gru=gru)\n",
    "    if inp == 18:\n",
    "        net = CRNN_2_4(kernel_size=ker_size, pool_size1=(2,2), pool_size2=(2,2), pool_size3=(2,2), pool_size4=(2,2),gru=gru)\n",
    "    if inp == 25:\n",
    "        net = CRNN_2_4(kernel_size=ker_size, pool_size1=(2,2), pool_size2=(2,2), pool_size3=(2,2), pool_size4=(3,2),gru=gru)\n",
    "    if inp == 32:\n",
    "        net = CRNN_2_4(kernel_size=ker_size, pool_size1=(4,2), pool_size2=(2,2), pool_size3=(2,2), pool_size4=(2,2),gru=gru)\n",
    "\n",
    "device = torch.device('cuda' if torch.cuda.is_available() else 'cpu')\n",
    "net = net.to(device)\n",
    "net.load_state_dict(torch.load(waight_path))\n",
    "net.eval()\n"
   ]
  },
  {
   "cell_type": "markdown",
   "metadata": {},
   "source": [
    "### Loading data to test the net"
   ]
  },
  {
   "cell_type": "code",
   "execution_count": 3,
   "metadata": {},
   "outputs": [],
   "source": [
    "def file_parse(root_dir, ext='pth'):\n",
    "    a_items = []\n",
    "    na_items = []\n",
    "    print(f'parse {root_dir}... ', end='')\n",
    "    for root, _, files in os.walk(root_dir, topdown=False):\n",
    "        for name in files:\n",
    "            if os.path.isfile(os.path.join(root, name)):\n",
    "                if name.endswith(ext):\n",
    "                    if 'apnea' in os.path.join(root, name).split('/'):\n",
    "                        a_items.append(os.path.join(root, name))\n",
    "                    elif 'nonapnea' in os.path.join(root, name).split('/'):\n",
    "                        na_items.append(os.path.join(root, name))\n",
    "    return a_items, na_items # return full path"
   ]
  },
  {
   "cell_type": "markdown",
   "metadata": {},
   "source": [
    "Pazienti in training"
   ]
  },
  {
   "cell_type": "code",
   "execution_count": 4,
   "metadata": {},
   "outputs": [
    {
     "name": "stdout",
     "output_type": "stream",
     "text": [
      "parse /home/dlillini/DATA/PSG_Audio/new_split/split2/train/... "
     ]
    }
   ],
   "source": [
    "root_dir = '/home/dlillini/DATA/PSG_Audio/new_split/split2/train/'\n",
    "t_a_items, t_na_items = file_parse(root_dir)"
   ]
  },
  {
   "cell_type": "code",
   "execution_count": 5,
   "metadata": {},
   "outputs": [
    {
     "name": "stderr",
     "output_type": "stream",
     "text": [
      "100%|██████████| 11789/11789 [00:08<00:00, 1381.82it/s]\n",
      "100%|██████████| 36033/36033 [00:25<00:00, 1411.69it/s]"
     ]
    },
    {
     "name": "stdout",
     "output_type": "stream",
     "text": [
      "Embedded 11789 chunks of apnea\n",
      "Embedded 36033 chunks of non-apnea\n"
     ]
    },
    {
     "name": "stderr",
     "output_type": "stream",
     "text": [
      "\n"
     ]
    }
   ],
   "source": [
    "#Define empty tensor to save the embeddings\n",
    "\n",
    "t_a_emb = torch.Tensor()\n",
    "t_na_emb = torch.Tensor()\n",
    "\n",
    "#For apnea items\n",
    "\n",
    "for mel_sp in tqdm(t_a_items):\n",
    "    ap = torch.load(str(mel_sp))\n",
    "    ap = ap.to(device)\n",
    "    ap = ap[0:inp,:]\n",
    "    with torch.no_grad():\n",
    "        out_a = net((ap.unsqueeze(0).unsqueeze(0)))\n",
    "    t_a_emb = torch.cat((t_a_emb,out_a.detach().cpu()))\n",
    "\n",
    "#For non apnea items\n",
    "\n",
    "for mel_sp in tqdm(t_na_items):\n",
    "    n_ap = torch.load(str(mel_sp))\n",
    "    n_ap = n_ap.to(device)\n",
    "    n_ap = n_ap[0:inp,:]\n",
    "    with torch.no_grad():\n",
    "        out_na = net((n_ap.unsqueeze(0).unsqueeze(0)))\n",
    "    t_na_emb = torch.cat((t_na_emb,out_na.detach().cpu()))\n",
    "\n",
    "print(f'Embedded {t_a_emb.shape[0]} chunks of apnea')\n",
    "print(f'Embedded {t_na_emb.shape[0]} chunks of non-apnea')\n"
   ]
  },
  {
   "cell_type": "markdown",
   "metadata": {},
   "source": [
    "Pazienti di test\n"
   ]
  },
  {
   "cell_type": "code",
   "execution_count": 12,
   "metadata": {},
   "outputs": [
    {
     "name": "stdout",
     "output_type": "stream",
     "text": [
      "parse /home/dlillini/DATA/PSG_Audio/new_split/split2/test/... "
     ]
    }
   ],
   "source": [
    "root_dir = '/home/dlillini/DATA/PSG_Audio/new_split/split2/test/'\n",
    "a_items, na_items = file_parse(root_dir)"
   ]
  },
  {
   "cell_type": "code",
   "execution_count": 13,
   "metadata": {},
   "outputs": [
    {
     "name": "stderr",
     "output_type": "stream",
     "text": [
      "100%|██████████| 3953/3953 [00:02<00:00, 1700.79it/s]\n",
      "100%|██████████| 12473/12473 [00:07<00:00, 1685.29it/s]"
     ]
    },
    {
     "name": "stdout",
     "output_type": "stream",
     "text": [
      "Embedded 3953 chunks of apnea\n",
      "Embedded 12473 chunks of non-apnea\n"
     ]
    },
    {
     "name": "stderr",
     "output_type": "stream",
     "text": [
      "\n"
     ]
    }
   ],
   "source": [
    "#Define empty tensor to save the embeddings\n",
    "\n",
    "a_emb = torch.Tensor()\n",
    "na_emb = torch.Tensor()\n",
    "\n",
    "#For apnea items\n",
    "\n",
    "for mel_sp in tqdm(a_items):\n",
    "    ap = torch.load(str(mel_sp))\n",
    "    ap = ap.to(device)\n",
    "    ap = ap[0:inp,:]\n",
    "    with torch.no_grad():\n",
    "        out_a = net((ap.unsqueeze(0).unsqueeze(0)))\n",
    "    a_emb = torch.cat((a_emb,out_a.detach().cpu()))\n",
    "\n",
    "#For non apnea items\n",
    "\n",
    "for mel_sp in tqdm(na_items):\n",
    "    n_ap = torch.load(str(mel_sp))\n",
    "    n_ap = n_ap.to(device)\n",
    "    n_ap = n_ap[0:inp,:]\n",
    "    with torch.no_grad():\n",
    "        out_na = net((n_ap.unsqueeze(0).unsqueeze(0)))\n",
    "    na_emb = torch.cat((na_emb,out_na.detach().cpu()))\n",
    "\n",
    "print(f'Embedded {a_emb.shape[0]} chunks of apnea')\n",
    "print(f'Embedded {na_emb.shape[0]} chunks of non-apnea')\n"
   ]
  },
  {
   "cell_type": "markdown",
   "metadata": {},
   "source": [
    "Train"
   ]
  },
  {
   "cell_type": "code",
   "execution_count": 14,
   "metadata": {},
   "outputs": [
    {
     "name": "stdout",
     "output_type": "stream",
     "text": [
      "X_A: (11789, 64)\n",
      "X_NA: (36033, 64)\n",
      "X: (47822, 64)\n",
      "y: (47822,)\n"
     ]
    },
    {
     "name": "stderr",
     "output_type": "stream",
     "text": [
      "/tmp/ipykernel_121990/3508141424.py:1: DeprecationWarning: __array__ implementation doesn't accept a copy keyword, so passing copy=False failed. __array__ must implement 'dtype' and 'copy' keyword arguments.\n",
      "  X_A_t = np.array(t_a_emb)\n",
      "/tmp/ipykernel_121990/3508141424.py:3: DeprecationWarning: __array__ implementation doesn't accept a copy keyword, so passing copy=False failed. __array__ must implement 'dtype' and 'copy' keyword arguments.\n",
      "  X_NA_t = np.array(t_na_emb)\n"
     ]
    }
   ],
   "source": [
    "X_A_t = np.array(t_a_emb)\n",
    "y_A_t = np.ones(X_A_t.shape[0])\n",
    "X_NA_t = np.array(t_na_emb)\n",
    "y_NA_t = np.zeros(X_NA_t.shape[0])\n",
    "X_t = np.vstack((X_A_t, X_NA_t))\n",
    "y_t= np.vstack((y_A_t[:,np.newaxis], y_NA_t[:,np.newaxis]))\n",
    "y_t = np.squeeze(y_t)\n",
    "print(f'X_A: {X_A_t.shape}')\n",
    "print(f'X_NA: {X_NA_t.shape}')\n",
    "print(f'X: {X_t.shape}')\n",
    "print(f'y: {y_t.shape}')"
   ]
  },
  {
   "cell_type": "markdown",
   "metadata": {},
   "source": [
    "test"
   ]
  },
  {
   "cell_type": "code",
   "execution_count": 15,
   "metadata": {},
   "outputs": [
    {
     "name": "stdout",
     "output_type": "stream",
     "text": [
      "X_A: (3953, 64)\n",
      "X_NA: (12473, 64)\n",
      "X: (16426, 64)\n",
      "y: (16426,)\n"
     ]
    },
    {
     "name": "stderr",
     "output_type": "stream",
     "text": [
      "/tmp/ipykernel_121990/4065206473.py:1: DeprecationWarning: __array__ implementation doesn't accept a copy keyword, so passing copy=False failed. __array__ must implement 'dtype' and 'copy' keyword arguments.\n",
      "  X_A = np.array(a_emb)\n",
      "/tmp/ipykernel_121990/4065206473.py:3: DeprecationWarning: __array__ implementation doesn't accept a copy keyword, so passing copy=False failed. __array__ must implement 'dtype' and 'copy' keyword arguments.\n",
      "  X_NA = np.array(na_emb)\n"
     ]
    }
   ],
   "source": [
    "X_A = np.array(a_emb)\n",
    "y_A = np.ones(X_A.shape[0])\n",
    "X_NA = np.array(na_emb)\n",
    "y_NA = np.zeros(X_NA.shape[0])\n",
    "X = np.vstack((X_A, X_NA))\n",
    "y = np.vstack((y_A[:,np.newaxis], y_NA[:,np.newaxis]))\n",
    "y = np.squeeze(y)\n",
    "print(f'X_A: {X_A.shape}')\n",
    "print(f'X_NA: {X_NA.shape}')\n",
    "print(f'X: {X.shape}')\n",
    "print(f'y: {y.shape}')\n"
   ]
  },
  {
   "cell_type": "markdown",
   "metadata": {},
   "source": [
    "T-NSE (Dimensionality reduction from 128 to 2) need it to plot the embeddings distribution"
   ]
  },
  {
   "cell_type": "code",
   "execution_count": 12,
   "metadata": {},
   "outputs": [],
   "source": [
    "# Fit T-SNE\n",
    "tsne = TSNE(n_components=2, random_state=184)\n",
    "X_2d = tsne.fit_transform(X)"
   ]
  },
  {
   "cell_type": "code",
   "execution_count": 13,
   "metadata": {},
   "outputs": [
    {
     "data": {
      "image/png": "[encoded data removed]",
      "text/plain": [
       "<Figure size 600x500 with 1 Axes>"
      ]
     },
     "metadata": {},
     "output_type": "display_data"
    }
   ],
   "source": [
    "comment = ''\n",
    "plt.figure(figsize=(6, 5))\n",
    "\n",
    "for i, c, label, szs in zip([1,0], ['r','pink'], ['apnea','non apnea'], [12,12]):\n",
    "    plt.scatter(X_2d[y == i, 0], X_2d[y == i, 1], c=c, s=szs, label=label)\n",
    "plt.legend(loc='best')\n",
    "plt.title('Embeddings distrubution (Trained on 23 patiens, Tested on 8 patients)')\n",
    "plt.text(0.95, 0.01, str(comment), verticalalignment='bottom', horizontalalignment='right',\n",
    "         transform=plt.gca().transAxes, color='blue', fontsize=10)\n",
    "plt.show()"
   ]
  },
  {
   "cell_type": "code",
   "execution_count": 16,
   "metadata": {},
   "outputs": [
    {
     "name": "stdout",
     "output_type": "stream",
     "text": [
      "X_A: (3953, 64)\n",
      "X_NA: (12473, 64)\n",
      "X: (16426, 64)\n",
      "y: (16426,)\n"
     ]
    }
   ],
   "source": [
    "# load data\n",
    "lbl_apnea = 0\n",
    "lbl_nonapnea = 1\n",
    "y_A = lbl_apnea*np.ones(X_A.shape[0])\n",
    "y_NA = lbl_nonapnea*np.ones(X_NA.shape[0])\n",
    "X = np.vstack((X_A, X_NA))\n",
    "y = np.vstack((y_A[:,np.newaxis], y_NA[:,np.newaxis]))\n",
    "y = np.squeeze(y)\n",
    "print(f'X_A: {X_A.shape}')\n",
    "print(f'X_NA: {X_NA.shape}')\n",
    "print(f'X: {X.shape}')\n",
    "print(f'y: {y.shape}')"
   ]
  },
  {
   "cell_type": "markdown",
   "metadata": {},
   "source": [
    "FIT su train"
   ]
  },
  {
   "cell_type": "code",
   "execution_count": 17,
   "metadata": {},
   "outputs": [
    {
     "name": "stdout",
     "output_type": "stream",
     "text": [
      "Accuracy: 0.8746499452088153\n",
      "Recall: 0.9126914134530586\n",
      "Precision: 0.9214829205115752\n",
      "Time: 0.014730453491210938\n"
     ]
    }
   ],
   "source": [
    "# K-means clustering\n",
    "import time\n",
    "np.random.seed(5)\n",
    "estimator = KMeans(n_clusters=2)\n",
    "\n",
    "start_time = time.time()\n",
    "estimator.fit(X_t)\n",
    "labels_pred = estimator.predict(X)\n",
    "end_time = time.time()\n",
    "\n",
    "accuracy = ((labels_pred==y).sum() / len(y))\n",
    "rec = recall_score(y,labels_pred, average='binary')\n",
    "prec = precision_score(y,labels_pred, average='binary')\n",
    "print(f'Accuracy: {accuracy}')\n",
    "print(f'Recall: {rec}')\n",
    "print(f'Precision: {prec}')\n",
    "print(f'Time: {end_time-start_time}')"
   ]
  }
 ],
 "metadata": {
  "kernelspec": {
   "display_name": "env_dl",
   "language": "python",
   "name": "python3"
  },
  "language_info": {
   "codemirror_mode": {
    "name": "ipython",
    "version": 3
   },
   "file_extension": ".py",
   "mimetype": "text/x-python",
   "name": "python",
   "nbconvert_exporter": "python",
   "pygments_lexer": "ipython3",
   "version": "3.13.2"
  }
 },
 "nbformat": 4,
 "nbformat_minor": 2
}
